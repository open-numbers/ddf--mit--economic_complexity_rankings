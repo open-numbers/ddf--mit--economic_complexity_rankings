{
 "cells": [
  {
   "cell_type": "code",
   "execution_count": 2,
   "metadata": {},
   "outputs": [],
   "source": [
    "import pandas as pd"
   ]
  },
  {
   "cell_type": "code",
   "execution_count": 3,
   "metadata": {},
   "outputs": [],
   "source": [
    "from ddf_utils.str import format_float_digits"
   ]
  },
  {
   "cell_type": "code",
   "execution_count": 4,
   "metadata": {},
   "outputs": [],
   "source": [
    "from functools import partial"
   ]
  },
  {
   "cell_type": "code",
   "execution_count": 5,
   "metadata": {},
   "outputs": [],
   "source": [
    "source = '../source/eci_country_rankings.csv'"
   ]
  },
  {
   "cell_type": "code",
   "execution_count": 6,
   "metadata": {},
   "outputs": [],
   "source": [
    "data = pd.read_csv(source)"
   ]
  },
  {
   "cell_type": "code",
   "execution_count": 7,
   "metadata": {},
   "outputs": [
    {
     "data": {
      "text/html": [
       "<div>\n",
       "<style scoped>\n",
       "    .dataframe tbody tr th:only-of-type {\n",
       "        vertical-align: middle;\n",
       "    }\n",
       "\n",
       "    .dataframe tbody tr th {\n",
       "        vertical-align: top;\n",
       "    }\n",
       "\n",
       "    .dataframe thead th {\n",
       "        text-align: right;\n",
       "    }\n",
       "</style>\n",
       "<table border=\"1\" class=\"dataframe\">\n",
       "  <thead>\n",
       "    <tr style=\"text-align: right;\">\n",
       "      <th></th>\n",
       "      <th>Year</th>\n",
       "      <th>Country</th>\n",
       "      <th>Country ID</th>\n",
       "      <th>ECI</th>\n",
       "      <th>ECI+</th>\n",
       "    </tr>\n",
       "  </thead>\n",
       "  <tbody>\n",
       "    <tr>\n",
       "      <th>0</th>\n",
       "      <td>1964</td>\n",
       "      <td>Angola</td>\n",
       "      <td>afago</td>\n",
       "      <td>-1.317530</td>\n",
       "      <td>-1.226750</td>\n",
       "    </tr>\n",
       "    <tr>\n",
       "      <th>1</th>\n",
       "      <td>1964</td>\n",
       "      <td>Cote d'Ivoire</td>\n",
       "      <td>afciv</td>\n",
       "      <td>-0.915735</td>\n",
       "      <td>-1.028210</td>\n",
       "    </tr>\n",
       "    <tr>\n",
       "      <th>2</th>\n",
       "      <td>1964</td>\n",
       "      <td>Cameroon</td>\n",
       "      <td>afcmr</td>\n",
       "      <td>-1.128520</td>\n",
       "      <td>-0.889755</td>\n",
       "    </tr>\n",
       "    <tr>\n",
       "      <th>3</th>\n",
       "      <td>1964</td>\n",
       "      <td>Republic of the Congo</td>\n",
       "      <td>afcog</td>\n",
       "      <td>-0.930207</td>\n",
       "      <td>-0.898081</td>\n",
       "    </tr>\n",
       "    <tr>\n",
       "      <th>4</th>\n",
       "      <td>1964</td>\n",
       "      <td>Algeria</td>\n",
       "      <td>afdza</td>\n",
       "      <td>-0.131416</td>\n",
       "      <td>0.090527</td>\n",
       "    </tr>\n",
       "  </tbody>\n",
       "</table>\n",
       "</div>"
      ],
      "text/plain": [
       "   Year                Country Country ID       ECI      ECI+\n",
       "0  1964                 Angola      afago -1.317530 -1.226750\n",
       "1  1964          Cote d'Ivoire      afciv -0.915735 -1.028210\n",
       "2  1964               Cameroon      afcmr -1.128520 -0.889755\n",
       "3  1964  Republic of the Congo      afcog -0.930207 -0.898081\n",
       "4  1964                Algeria      afdza -0.131416  0.090527"
      ]
     },
     "execution_count": 7,
     "metadata": {},
     "output_type": "execute_result"
    }
   ],
   "source": [
    "data.head()"
   ]
  },
  {
   "cell_type": "code",
   "execution_count": 8,
   "metadata": {},
   "outputs": [],
   "source": [
    "countries = data[['Country ID', 'Country']].drop_duplicates().copy()"
   ]
  },
  {
   "cell_type": "code",
   "execution_count": 9,
   "metadata": {},
   "outputs": [],
   "source": [
    "countries.columns = ['country', 'name']"
   ]
  },
  {
   "cell_type": "code",
   "execution_count": 10,
   "metadata": {},
   "outputs": [],
   "source": [
    "countries.to_csv('../../ddf--entities--country.csv', index=False)"
   ]
  },
  {
   "cell_type": "code",
   "execution_count": null,
   "metadata": {},
   "outputs": [],
   "source": []
  },
  {
   "cell_type": "code",
   "execution_count": 11,
   "metadata": {},
   "outputs": [],
   "source": [
    "dps = data[['Country ID', 'Year', 'ECI', 'ECI+']].copy()"
   ]
  },
  {
   "cell_type": "code",
   "execution_count": 12,
   "metadata": {},
   "outputs": [],
   "source": [
    "dps.columns = ['country', 'year', 'eci', 'eci_plus']"
   ]
  },
  {
   "cell_type": "code",
   "execution_count": 13,
   "metadata": {},
   "outputs": [],
   "source": [
    "dps = dps.set_index(['country', 'year'])"
   ]
  },
  {
   "cell_type": "code",
   "execution_count": 14,
   "metadata": {},
   "outputs": [
    {
     "data": {
      "text/html": [
       "<div>\n",
       "<style scoped>\n",
       "    .dataframe tbody tr th:only-of-type {\n",
       "        vertical-align: middle;\n",
       "    }\n",
       "\n",
       "    .dataframe tbody tr th {\n",
       "        vertical-align: top;\n",
       "    }\n",
       "\n",
       "    .dataframe thead th {\n",
       "        text-align: right;\n",
       "    }\n",
       "</style>\n",
       "<table border=\"1\" class=\"dataframe\">\n",
       "  <thead>\n",
       "    <tr style=\"text-align: right;\">\n",
       "      <th></th>\n",
       "      <th></th>\n",
       "      <th>eci</th>\n",
       "      <th>eci_plus</th>\n",
       "    </tr>\n",
       "    <tr>\n",
       "      <th>country</th>\n",
       "      <th>year</th>\n",
       "      <th></th>\n",
       "      <th></th>\n",
       "    </tr>\n",
       "  </thead>\n",
       "  <tbody>\n",
       "    <tr>\n",
       "      <th>afago</th>\n",
       "      <th>1964</th>\n",
       "      <td>-1.317530</td>\n",
       "      <td>-1.226750</td>\n",
       "    </tr>\n",
       "    <tr>\n",
       "      <th>afciv</th>\n",
       "      <th>1964</th>\n",
       "      <td>-0.915735</td>\n",
       "      <td>-1.028210</td>\n",
       "    </tr>\n",
       "    <tr>\n",
       "      <th>afcmr</th>\n",
       "      <th>1964</th>\n",
       "      <td>-1.128520</td>\n",
       "      <td>-0.889755</td>\n",
       "    </tr>\n",
       "    <tr>\n",
       "      <th>afcog</th>\n",
       "      <th>1964</th>\n",
       "      <td>-0.930207</td>\n",
       "      <td>-0.898081</td>\n",
       "    </tr>\n",
       "    <tr>\n",
       "      <th>afdza</th>\n",
       "      <th>1964</th>\n",
       "      <td>-0.131416</td>\n",
       "      <td>0.090527</td>\n",
       "    </tr>\n",
       "  </tbody>\n",
       "</table>\n",
       "</div>"
      ],
      "text/plain": [
       "                   eci  eci_plus\n",
       "country year                    \n",
       "afago   1964 -1.317530 -1.226750\n",
       "afciv   1964 -0.915735 -1.028210\n",
       "afcmr   1964 -1.128520 -0.889755\n",
       "afcog   1964 -0.930207 -0.898081\n",
       "afdza   1964 -0.131416  0.090527"
      ]
     },
     "execution_count": 14,
     "metadata": {},
     "output_type": "execute_result"
    }
   ],
   "source": [
    "dps.head()"
   ]
  },
  {
   "cell_type": "code",
   "execution_count": 15,
   "metadata": {},
   "outputs": [],
   "source": [
    "ff = partial(format_float_digits, digits=6)\n",
    "\n",
    "for c in dps:\n",
    "    df = dps[[c]].copy()\n",
    "    df[c] = df[c].map(format_float_digits)\n",
    "    df.dropna().to_csv(f'../../ddf--datapoints--{c}--by--country--year.csv')"
   ]
  },
  {
   "cell_type": "code",
   "execution_count": null,
   "metadata": {},
   "outputs": [],
   "source": []
  },
  {
   "cell_type": "code",
   "execution_count": 16,
   "metadata": {},
   "outputs": [],
   "source": [
    "# calculate rankings\n",
    "\n",
    "def scanl(f, l, base):\n",
    "    for x in l:\n",
    "        base = f(base, x)\n",
    "        yield base\n",
    "\n",
    "def compare(vs, x):\n",
    "    if pd.isnull(x):\n",
    "        return None\n",
    "    if vs[0] == x:\n",
    "        return (x, vs[1])\n",
    "    else:\n",
    "        return (x, vs[1]+1)\n",
    "\n",
    "def r(ser):\n",
    "    s = ser.sort_values(ascending=False)\n",
    "    s_ = scanl(compare, s.values, (100, 0))\n",
    "    rks = [x[1] for x in s_]\n",
    "    return pd.Series(rks, index=s.index)"
   ]
  },
  {
   "cell_type": "code",
   "execution_count": 17,
   "metadata": {},
   "outputs": [],
   "source": [
    "df = dps[['eci']]"
   ]
  },
  {
   "cell_type": "code",
   "execution_count": 18,
   "metadata": {},
   "outputs": [],
   "source": [
    "rks = []\n",
    "\n",
    "for _, v in df.groupby(['year']):\n",
    "    df_ = v.copy()\n",
    "    df_['eci_ranking'] = r(df_['eci'])\n",
    "    rks.append(df_['eci_ranking'])\n",
    "    \n",
    "rks = pd.concat(rks)"
   ]
  },
  {
   "cell_type": "code",
   "execution_count": 19,
   "metadata": {},
   "outputs": [],
   "source": [
    "rks = rks.reset_index()"
   ]
  },
  {
   "cell_type": "code",
   "execution_count": 20,
   "metadata": {
    "scrolled": true
   },
   "outputs": [
    {
     "data": {
      "text/html": [
       "<div>\n",
       "<style scoped>\n",
       "    .dataframe tbody tr th:only-of-type {\n",
       "        vertical-align: middle;\n",
       "    }\n",
       "\n",
       "    .dataframe tbody tr th {\n",
       "        vertical-align: top;\n",
       "    }\n",
       "\n",
       "    .dataframe thead th {\n",
       "        text-align: right;\n",
       "    }\n",
       "</style>\n",
       "<table border=\"1\" class=\"dataframe\">\n",
       "  <thead>\n",
       "    <tr style=\"text-align: right;\">\n",
       "      <th></th>\n",
       "      <th>country</th>\n",
       "      <th>year</th>\n",
       "      <th>eci_ranking</th>\n",
       "    </tr>\n",
       "  </thead>\n",
       "  <tbody>\n",
       "    <tr>\n",
       "      <th>5594</th>\n",
       "      <td>asjpn</td>\n",
       "      <td>2016</td>\n",
       "      <td>1</td>\n",
       "    </tr>\n",
       "    <tr>\n",
       "      <th>5615</th>\n",
       "      <td>euche</td>\n",
       "      <td>2016</td>\n",
       "      <td>2</td>\n",
       "    </tr>\n",
       "    <tr>\n",
       "      <th>5617</th>\n",
       "      <td>eudeu</td>\n",
       "      <td>2016</td>\n",
       "      <td>3</td>\n",
       "    </tr>\n",
       "    <tr>\n",
       "      <th>5638</th>\n",
       "      <td>euswe</td>\n",
       "      <td>2016</td>\n",
       "      <td>4</td>\n",
       "    </tr>\n",
       "    <tr>\n",
       "      <th>5598</th>\n",
       "      <td>askor</td>\n",
       "      <td>2016</td>\n",
       "      <td>5</td>\n",
       "    </tr>\n",
       "  </tbody>\n",
       "</table>\n",
       "</div>"
      ],
      "text/plain": [
       "     country  year  eci_ranking\n",
       "5594   asjpn  2016            1\n",
       "5615   euche  2016            2\n",
       "5617   eudeu  2016            3\n",
       "5638   euswe  2016            4\n",
       "5598   askor  2016            5"
      ]
     },
     "execution_count": 20,
     "metadata": {},
     "output_type": "execute_result"
    }
   ],
   "source": [
    "rks[rks.year == 2016].sort_values(by='eci_ranking').head()"
   ]
  },
  {
   "cell_type": "code",
   "execution_count": 21,
   "metadata": {},
   "outputs": [],
   "source": [
    "rks.to_csv('../../ddf--datapoints--eci_ranking--by--country--year.csv', index=False)"
   ]
  },
  {
   "cell_type": "code",
   "execution_count": null,
   "metadata": {},
   "outputs": [],
   "source": []
  },
  {
   "cell_type": "code",
   "execution_count": null,
   "metadata": {},
   "outputs": [],
   "source": []
  },
  {
   "cell_type": "code",
   "execution_count": null,
   "metadata": {},
   "outputs": [],
   "source": []
  },
  {
   "cell_type": "code",
   "execution_count": 22,
   "metadata": {},
   "outputs": [],
   "source": [
    "!open ../../"
   ]
  },
  {
   "cell_type": "code",
   "execution_count": null,
   "metadata": {},
   "outputs": [],
   "source": []
  },
  {
   "cell_type": "code",
   "execution_count": 23,
   "metadata": {},
   "outputs": [],
   "source": [
    "concepts = [\n",
    "    {\n",
    "        'concept': 'country',\n",
    "        'name': 'Country',\n",
    "        'concept_type': 'entity_domain',\n",
    "        'domain': ''\n",
    "    },\n",
    "    {\n",
    "        'concept': 'name',\n",
    "        'name': 'Name',\n",
    "        'concept_type': 'string',\n",
    "        'domain': ''\n",
    "    },\n",
    "    {\n",
    "        'concept': 'domain',\n",
    "        'name': 'Domain',\n",
    "        'concept_type': 'string',\n",
    "        'domain': ''\n",
    "    },\n",
    "    {\n",
    "        'concept': 'year',\n",
    "        'name': 'Year',\n",
    "        'concept_type': 'time',\n",
    "        'domain': ''\n",
    "    },\n",
    "    {\n",
    "        'concept': 'eci',\n",
    "        'name': 'ECI',\n",
    "        'concept_type': 'measure',\n",
    "        'domain': ''\n",
    "    },\n",
    "    {\n",
    "        'concept': 'eci_plus',\n",
    "        'name': 'ECI+',\n",
    "        'concept_type': 'measure',\n",
    "        'domain': ''\n",
    "    },\n",
    "    {\n",
    "        'concept': 'eci_ranking',\n",
    "        'name': 'ECI ranking',\n",
    "        'concept_type': 'measure',\n",
    "        'domain': ''\n",
    "    }\n",
    "]\n",
    "\n",
    "cdf = pd.DataFrame.from_records(concepts)"
   ]
  },
  {
   "cell_type": "code",
   "execution_count": 24,
   "metadata": {},
   "outputs": [
    {
     "data": {
      "text/html": [
       "<div>\n",
       "<style scoped>\n",
       "    .dataframe tbody tr th:only-of-type {\n",
       "        vertical-align: middle;\n",
       "    }\n",
       "\n",
       "    .dataframe tbody tr th {\n",
       "        vertical-align: top;\n",
       "    }\n",
       "\n",
       "    .dataframe thead th {\n",
       "        text-align: right;\n",
       "    }\n",
       "</style>\n",
       "<table border=\"1\" class=\"dataframe\">\n",
       "  <thead>\n",
       "    <tr style=\"text-align: right;\">\n",
       "      <th></th>\n",
       "      <th>concept</th>\n",
       "      <th>concept_type</th>\n",
       "      <th>domain</th>\n",
       "      <th>name</th>\n",
       "    </tr>\n",
       "  </thead>\n",
       "  <tbody>\n",
       "    <tr>\n",
       "      <th>0</th>\n",
       "      <td>country</td>\n",
       "      <td>entity_domain</td>\n",
       "      <td></td>\n",
       "      <td>Country</td>\n",
       "    </tr>\n",
       "    <tr>\n",
       "      <th>1</th>\n",
       "      <td>name</td>\n",
       "      <td>string</td>\n",
       "      <td></td>\n",
       "      <td>Name</td>\n",
       "    </tr>\n",
       "    <tr>\n",
       "      <th>2</th>\n",
       "      <td>domain</td>\n",
       "      <td>string</td>\n",
       "      <td></td>\n",
       "      <td>Domain</td>\n",
       "    </tr>\n",
       "    <tr>\n",
       "      <th>3</th>\n",
       "      <td>year</td>\n",
       "      <td>time</td>\n",
       "      <td></td>\n",
       "      <td>Year</td>\n",
       "    </tr>\n",
       "    <tr>\n",
       "      <th>4</th>\n",
       "      <td>eci</td>\n",
       "      <td>measure</td>\n",
       "      <td></td>\n",
       "      <td>ECI</td>\n",
       "    </tr>\n",
       "    <tr>\n",
       "      <th>5</th>\n",
       "      <td>eci_plus</td>\n",
       "      <td>measure</td>\n",
       "      <td></td>\n",
       "      <td>ECI+</td>\n",
       "    </tr>\n",
       "    <tr>\n",
       "      <th>6</th>\n",
       "      <td>eci_ranking</td>\n",
       "      <td>measure</td>\n",
       "      <td></td>\n",
       "      <td>ECI ranking</td>\n",
       "    </tr>\n",
       "  </tbody>\n",
       "</table>\n",
       "</div>"
      ],
      "text/plain": [
       "       concept   concept_type domain         name\n",
       "0      country  entity_domain             Country\n",
       "1         name         string                Name\n",
       "2       domain         string              Domain\n",
       "3         year           time                Year\n",
       "4          eci        measure                 ECI\n",
       "5     eci_plus        measure                ECI+\n",
       "6  eci_ranking        measure         ECI ranking"
      ]
     },
     "execution_count": 24,
     "metadata": {},
     "output_type": "execute_result"
    }
   ],
   "source": [
    "cdf"
   ]
  },
  {
   "cell_type": "code",
   "execution_count": 25,
   "metadata": {},
   "outputs": [],
   "source": [
    "cdf.to_csv('../../ddf--concepts.csv', index=False)"
   ]
  },
  {
   "cell_type": "code",
   "execution_count": null,
   "metadata": {},
   "outputs": [],
   "source": []
  },
  {
   "cell_type": "code",
   "execution_count": 26,
   "metadata": {},
   "outputs": [
    {
     "name": "stdout",
     "output_type": "stream",
     "text": [
      "backing up previous datapackage.json...\n",
      "\u001b[32m2018-06-20 09:26:00\u001b[0m \u001b[1;30mWARNING\u001b[0m \u001b[33mskipping file .DS_Store\u001b[0m\n",
      "\u001b[32m2018-06-20 09:26:00\u001b[0m \u001b[1;30mWARNING\u001b[0m \u001b[33mskipping file datapackage.json\u001b[0m\n",
      "\u001b[32m2018-06-20 09:26:00\u001b[0m \u001b[1;30mWARNING\u001b[0m \u001b[33mskipping file README.md\u001b[0m\n",
      "\u001b[32m2018-06-20 09:26:00\u001b[0m \u001b[1;30mWARNING\u001b[0m \u001b[33mskipping file .gitignore\u001b[0m\n",
      "\u001b[32m2018-06-20 09:26:00\u001b[0m \u001b[1;30mWARNING\u001b[0m \u001b[33mskipping file .gitattributes\u001b[0m\n",
      "\u001b[32m2018-06-20 09:26:00\u001b[0m \u001b[1;30mWARNING\u001b[0m \u001b[33mskipping file datapackage.json.bak\u001b[0m\n",
      "\u001b[32m2018-06-20 09:26:00\u001b[0m \u001b[1;30mINFO\u001b[0m generating ddf schema, may take some time...\n",
      "\u001b[32m2018-06-20 09:26:00\u001b[0m \u001b[1;30mINFO\u001b[0m loading dataset from disk: ddf--mit--economic_complexity_rankings\n",
      "100%|█████████████████████████████████████████████| 5/5 [00:00<00:00, 57.17it/s]\n",
      "Done.\n"
     ]
    }
   ],
   "source": [
    "!ddf create_datapackage --update ../../"
   ]
  },
  {
   "cell_type": "code",
   "execution_count": 27,
   "metadata": {},
   "outputs": [
    {
     "name": "stdout",
     "output_type": "stream",
     "text": [
      "\u001b[0m\u001b[?1000l\u001b[?1002l\u001b[?1003l\u001b[?1004l"
     ]
    }
   ],
   "source": [
    "!validate-ddf ../../ --silent"
   ]
  },
  {
   "cell_type": "code",
   "execution_count": null,
   "metadata": {},
   "outputs": [],
   "source": []
  }
 ],
 "metadata": {
  "kernelspec": {
   "display_name": "Python 3",
   "language": "python",
   "name": "python3"
  },
  "language_info": {
   "codemirror_mode": {
    "name": "ipython",
    "version": 3
   },
   "file_extension": ".py",
   "mimetype": "text/x-python",
   "name": "python",
   "nbconvert_exporter": "python",
   "pygments_lexer": "ipython3",
   "version": "3.6.5"
  }
 },
 "nbformat": 4,
 "nbformat_minor": 2
}
